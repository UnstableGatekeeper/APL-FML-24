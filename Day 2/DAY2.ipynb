{
 "cells": [
  {
   "cell_type": "code",
   "execution_count": 5,
   "id": "ff3d6061-3882-4c21-86d3-0eaa62031903",
   "metadata": {},
   "outputs": [],
   "source": [
    "import numpy as np"
   ]
  },
  {
   "cell_type": "markdown",
   "id": "901f76f5-caea-4d93-9869-f9fe3bbb7ba9",
   "metadata": {},
   "source": [
    "### What are the properties of a matrix?\n",
    "##### The properties of matrices are in:\n",
    "- Matrix Addition\n",
    "- Scalar Multiplication of Matrix\n",
    "- Matrix Multiplication\n",
    "- Transponse Matrix\n",
    "- And many more"
   ]
  },
  {
   "cell_type": "markdown",
   "id": "64000f4c-e6f9-4b1b-99cf-10b976097f83",
   "metadata": {},
   "source": [
    "***\n",
    "### We'll be now reading about the basics of a popular library in Python named 'NumPy'.\n",
    "#### The most common thing we'll end up doing using 'NumPy' is using arrays\n",
    "#### We create arrays in NumPy by following method:\n",
    "***"
   ]
  },
  {
   "cell_type": "code",
   "execution_count": 7,
   "id": "dea754ff-ed94-4af9-ad7e-d9dd38ad77ec",
   "metadata": {},
   "outputs": [],
   "source": [
    "a = np.array([1, 2])"
   ]
  },
  {
   "cell_type": "code",
   "execution_count": 9,
   "id": "ca8229b2-eaa9-4e26-816f-c6f5d6a15f87",
   "metadata": {},
   "outputs": [
    {
     "data": {
      "text/plain": [
       "array([1, 2])"
      ]
     },
     "execution_count": 9,
     "metadata": {},
     "output_type": "execute_result"
    }
   ],
   "source": [
    "a"
   ]
  },
  {
   "cell_type": "markdown",
   "id": "2fa7a416-e3f0-4ecc-80ff-bd45360f3d83",
   "metadata": {},
   "source": [
    "---\n",
    "#### We can check it's type."
   ]
  },
  {
   "cell_type": "code",
   "execution_count": 12,
   "id": "cadf5182-11d3-408d-9d7d-e76695ed67e1",
   "metadata": {},
   "outputs": [
    {
     "data": {
      "text/plain": [
       "numpy.ndarray"
      ]
     },
     "execution_count": 12,
     "metadata": {},
     "output_type": "execute_result"
    }
   ],
   "source": [
    "type(a)"
   ]
  },
  {
   "cell_type": "markdown",
   "id": "a14cd16b-df05-4c8c-83ba-82e7d68df006",
   "metadata": {},
   "source": [
    "---\n",
    "#### But using dtype we get to know what kind of data does it holds."
   ]
  },
  {
   "cell_type": "code",
   "execution_count": 18,
   "id": "8988c5cc-37ea-4820-b35c-fa59f5045334",
   "metadata": {},
   "outputs": [
    {
     "data": {
      "text/plain": [
       "dtype('int32')"
      ]
     },
     "execution_count": 18,
     "metadata": {},
     "output_type": "execute_result"
    }
   ],
   "source": [
    "a.dtype"
   ]
  },
  {
   "cell_type": "markdown",
   "id": "b2f2a7fa-c8c7-449d-9c01-47a84ba6cdca",
   "metadata": {},
   "source": [
    "---\n",
    "#### We can also get the amount of values we have stored in an array."
   ]
  },
  {
   "cell_type": "code",
   "execution_count": 46,
   "id": "598dedc5-6f42-4101-8832-5739f6fc8b68",
   "metadata": {},
   "outputs": [
    {
     "data": {
      "text/plain": [
       "2"
      ]
     },
     "execution_count": 46,
     "metadata": {},
     "output_type": "execute_result"
    }
   ],
   "source": [
    "a.size"
   ]
  },
  {
   "cell_type": "markdown",
   "id": "3c715bb3-1ecc-4793-9dbf-6785f33023de",
   "metadata": {},
   "source": [
    "#### Since we only had two values in it we displayed '2'."
   ]
  },
  {
   "cell_type": "markdown",
   "id": "f09a3c9a-7e7d-4bd7-abe5-488d01fd6423",
   "metadata": {},
   "source": [
    "---\n",
    "#### We can also we the shape of the array"
   ]
  },
  {
   "cell_type": "code",
   "execution_count": 32,
   "id": "e2cb0657-c962-44d5-98db-3d82d7c5929c",
   "metadata": {},
   "outputs": [
    {
     "data": {
      "text/plain": [
       "(2,)"
      ]
     },
     "execution_count": 32,
     "metadata": {},
     "output_type": "execute_result"
    }
   ],
   "source": [
    "a.shape"
   ]
  },
  {
   "cell_type": "markdown",
   "id": "ee1348bd-6d98-4848-9e98-6b7d9211cefc",
   "metadata": {},
   "source": [
    "#### Here the 2 before the comma represents the x demension of the array as it is only a single demensional array.\n",
    "##### Note: We'll look into this fuction with multiple demensions later on."
   ]
  },
  {
   "cell_type": "markdown",
   "id": "f9054113-b39e-44d5-9d00-d963f3913bb7",
   "metadata": {},
   "source": [
    "---\n",
    "#### A better way to understand this is by using '.ndim' inbuilt function."
   ]
  },
  {
   "cell_type": "code",
   "execution_count": 25,
   "id": "c1b58824-7b87-4075-a021-e5c755a2c7c5",
   "metadata": {},
   "outputs": [
    {
     "data": {
      "text/plain": [
       "1"
      ]
     },
     "execution_count": 25,
     "metadata": {},
     "output_type": "execute_result"
    }
   ],
   "source": [
    "a.ndim"
   ]
  },
  {
   "cell_type": "markdown",
   "id": "c5444daf-90fb-48e8-892b-39229fc73c97",
   "metadata": {},
   "source": [
    "#### Just one singular demension\n",
    "\n",
    "---\n",
    "## Let's now experiment we two demensional arrays"
   ]
  },
  {
   "cell_type": "code",
   "execution_count": 35,
   "id": "ca4b9b82-eca0-489b-880e-661d170281d5",
   "metadata": {},
   "outputs": [],
   "source": [
    "b = np.array([[1, 2, 3],\n",
    "              [4, 5, 6],\n",
    "              [7, 8, 9]], dtype='int')"
   ]
  },
  {
   "cell_type": "code",
   "execution_count": 37,
   "id": "04ad242e-ffe3-4682-9f27-a3caa7be2e05",
   "metadata": {},
   "outputs": [
    {
     "data": {
      "text/plain": [
       "array([[1, 2, 3],\n",
       "       [4, 5, 6],\n",
       "       [7, 8, 9]])"
      ]
     },
     "execution_count": 37,
     "metadata": {},
     "output_type": "execute_result"
    }
   ],
   "source": [
    "b"
   ]
  },
  {
   "cell_type": "markdown",
   "id": "202ccaa5-d0b2-4dd8-bb6d-d0c1912064e9",
   "metadata": {},
   "source": [
    "---\n",
    "#### We can use the same functions that we used in above for this two demensional array too."
   ]
  },
  {
   "cell_type": "code",
   "execution_count": 49,
   "id": "95013880-f353-4e86-a3b0-f1345c6aa5d9",
   "metadata": {},
   "outputs": [
    {
     "name": "stdout",
     "output_type": "stream",
     "text": [
      "<class 'numpy.ndarray'>\n"
     ]
    }
   ],
   "source": [
    "print(type(b))"
   ]
  },
  {
   "cell_type": "code",
   "execution_count": 39,
   "id": "9d579660-6d08-4be3-bccd-e2da0a5c4c4c",
   "metadata": {},
   "outputs": [
    {
     "data": {
      "text/plain": [
       "dtype('int32')"
      ]
     },
     "execution_count": 39,
     "metadata": {},
     "output_type": "execute_result"
    }
   ],
   "source": [
    "b.dtype"
   ]
  },
  {
   "cell_type": "code",
   "execution_count": 41,
   "id": "47b2a887-e3ac-4ec5-a655-f710b6c5a5a6",
   "metadata": {},
   "outputs": [
    {
     "data": {
      "text/plain": [
       "(3, 3)"
      ]
     },
     "execution_count": 41,
     "metadata": {},
     "output_type": "execute_result"
    }
   ],
   "source": [
    "b.shape"
   ]
  },
  {
   "cell_type": "markdown",
   "id": "f6b67eea-3275-4c9f-a62f-604461ac02d5",
   "metadata": {},
   "source": [
    "#### WE can see that the shape now has 'x' and 'y' demensions to display."
   ]
  },
  {
   "cell_type": "code",
   "execution_count": 43,
   "id": "37e51747-4795-4a66-bbae-ba00bd864853",
   "metadata": {},
   "outputs": [
    {
     "data": {
      "text/plain": [
       "9"
      ]
     },
     "execution_count": 43,
     "metadata": {},
     "output_type": "execute_result"
    }
   ],
   "source": [
    "b.size"
   ]
  },
  {
   "cell_type": "code",
   "execution_count": 51,
   "id": "f7b12cbc-15f3-4811-a04e-bacdb5bc0a7f",
   "metadata": {},
   "outputs": [
    {
     "data": {
      "text/plain": [
       "2"
      ]
     },
     "execution_count": 51,
     "metadata": {},
     "output_type": "execute_result"
    }
   ],
   "source": [
    "b.ndim"
   ]
  },
  {
   "cell_type": "markdown",
   "id": "6f43255b-2297-4fd3-9110-4cf7484b860a",
   "metadata": {},
   "source": [
    "---\n",
    "## Let's now experiment we three demensional arrays"
   ]
  },
  {
   "cell_type": "code",
   "execution_count": 56,
   "id": "70a8e349-7161-484a-9f55-ee6f2a75b913",
   "metadata": {},
   "outputs": [],
   "source": [
    "c = np.array([[[ 1,  2,  3], \n",
    "                [4, 5, 6], \n",
    "                [7, 8, 9]], \n",
    "               [[10, 11, 12], \n",
    "                [13, 14, 15], \n",
    "                [16, 17, 18]],\n",
    "               [[19, 20, 21], \n",
    "                [22, 23, 24], \n",
    "                [25, 26, 27]]])"
   ]
  },
  {
   "cell_type": "code",
   "execution_count": 58,
   "id": "1fb7a68b-a347-4f76-8414-305f793798b6",
   "metadata": {},
   "outputs": [
    {
     "data": {
      "text/plain": [
       "array([[[ 1,  2,  3],\n",
       "        [ 4,  5,  6],\n",
       "        [ 7,  8,  9]],\n",
       "\n",
       "       [[10, 11, 12],\n",
       "        [13, 14, 15],\n",
       "        [16, 17, 18]],\n",
       "\n",
       "       [[19, 20, 21],\n",
       "        [22, 23, 24],\n",
       "        [25, 26, 27]]])"
      ]
     },
     "execution_count": 58,
     "metadata": {},
     "output_type": "execute_result"
    }
   ],
   "source": [
    "c"
   ]
  },
  {
   "cell_type": "markdown",
   "id": "ddf0cd62-1d02-48f3-970b-896e3e61d85e",
   "metadata": {},
   "source": [
    "#### Again we can use the above used functions for three demensional arrays too."
   ]
  },
  {
   "cell_type": "code",
   "execution_count": 61,
   "id": "88def265-d67a-4195-88fe-0f182d4a06b1",
   "metadata": {},
   "outputs": [
    {
     "data": {
      "text/plain": [
       "(3, 3, 3)"
      ]
     },
     "execution_count": 61,
     "metadata": {},
     "output_type": "execute_result"
    }
   ],
   "source": [
    "c.shape"
   ]
  },
  {
   "cell_type": "code",
   "execution_count": 63,
   "id": "e5e50808-a1de-4121-a58e-3f86450d50b8",
   "metadata": {},
   "outputs": [
    {
     "data": {
      "text/plain": [
       "27"
      ]
     },
     "execution_count": 63,
     "metadata": {},
     "output_type": "execute_result"
    }
   ],
   "source": [
    "c.size"
   ]
  },
  {
   "cell_type": "code",
   "execution_count": 65,
   "id": "6f3bdc96-e60f-4074-b65b-8d8ca5120ffe",
   "metadata": {},
   "outputs": [
    {
     "data": {
      "text/plain": [
       "3"
      ]
     },
     "execution_count": 65,
     "metadata": {},
     "output_type": "execute_result"
    }
   ],
   "source": [
    "c.ndim"
   ]
  },
  {
   "cell_type": "markdown",
   "id": "675ed612-a0f1-48ac-bc9c-0055e4d13212",
   "metadata": {},
   "source": [
    "---\n",
    "## Surprise Test\n",
    "### Q. Make an three demensional array of shape '(4, 2, 2)'"
   ]
  },
  {
   "cell_type": "code",
   "execution_count": 68,
   "id": "65a2bd50-13c5-4703-8f95-5575990eb11f",
   "metadata": {},
   "outputs": [],
   "source": [
    "d = np.array([[[1, 2], \n",
    "               [3, 4]], \n",
    "              [[5, 6], \n",
    "                [7, 8]], \n",
    "              [[9, 10], \n",
    "               [11, 12]],\n",
    "              [[13, 14], \n",
    "               [15, 16]]])"
   ]
  },
  {
   "cell_type": "code",
   "execution_count": 70,
   "id": "b124f687-ba47-4cf4-bb2b-be63761e1d3d",
   "metadata": {},
   "outputs": [
    {
     "data": {
      "text/plain": [
       "(4, 2, 2)"
      ]
     },
     "execution_count": 70,
     "metadata": {},
     "output_type": "execute_result"
    }
   ],
   "source": [
    "d.shape"
   ]
  },
  {
   "cell_type": "markdown",
   "id": "5bbe5243-82f8-4770-bf3a-b759931daaa8",
   "metadata": {},
   "source": [
    "---\n",
    "## Let's look into different functions\n",
    "---\n",
    "\n",
    "#### One can use the 'NumPy' function called 'np.ones()' to generate a matrix filled with ones as per the shape the user wants"
   ]
  },
  {
   "cell_type": "code",
   "execution_count": 74,
   "id": "e609a244-5c9b-4967-9f73-9c25b49cfe60",
   "metadata": {},
   "outputs": [
    {
     "data": {
      "text/plain": [
       "array([[[1., 1., 1., 1., 1., 1., 1., 1.],\n",
       "        [1., 1., 1., 1., 1., 1., 1., 1.],\n",
       "        [1., 1., 1., 1., 1., 1., 1., 1.],\n",
       "        [1., 1., 1., 1., 1., 1., 1., 1.],\n",
       "        [1., 1., 1., 1., 1., 1., 1., 1.],\n",
       "        [1., 1., 1., 1., 1., 1., 1., 1.]],\n",
       "\n",
       "       [[1., 1., 1., 1., 1., 1., 1., 1.],\n",
       "        [1., 1., 1., 1., 1., 1., 1., 1.],\n",
       "        [1., 1., 1., 1., 1., 1., 1., 1.],\n",
       "        [1., 1., 1., 1., 1., 1., 1., 1.],\n",
       "        [1., 1., 1., 1., 1., 1., 1., 1.],\n",
       "        [1., 1., 1., 1., 1., 1., 1., 1.]],\n",
       "\n",
       "       [[1., 1., 1., 1., 1., 1., 1., 1.],\n",
       "        [1., 1., 1., 1., 1., 1., 1., 1.],\n",
       "        [1., 1., 1., 1., 1., 1., 1., 1.],\n",
       "        [1., 1., 1., 1., 1., 1., 1., 1.],\n",
       "        [1., 1., 1., 1., 1., 1., 1., 1.],\n",
       "        [1., 1., 1., 1., 1., 1., 1., 1.]],\n",
       "\n",
       "       [[1., 1., 1., 1., 1., 1., 1., 1.],\n",
       "        [1., 1., 1., 1., 1., 1., 1., 1.],\n",
       "        [1., 1., 1., 1., 1., 1., 1., 1.],\n",
       "        [1., 1., 1., 1., 1., 1., 1., 1.],\n",
       "        [1., 1., 1., 1., 1., 1., 1., 1.],\n",
       "        [1., 1., 1., 1., 1., 1., 1., 1.]]])"
      ]
     },
     "execution_count": 74,
     "metadata": {},
     "output_type": "execute_result"
    }
   ],
   "source": [
    "np.ones((4, 6, 8))"
   ]
  },
  {
   "cell_type": "markdown",
   "id": "1031b52e-1372-40dc-89ba-1e39cf144c30",
   "metadata": {},
   "source": [
    "#### One can also use the 'np.full()' function to get a matrix of the shape the user wants with a particular value filled in insted of ones."
   ]
  },
  {
   "cell_type": "code",
   "execution_count": 77,
   "id": "a781d126-b1e9-48dd-a902-07bdc058dd9f",
   "metadata": {},
   "outputs": [
    {
     "data": {
      "text/plain": [
       "array([[69, 69, 69, 69, 69, 69],\n",
       "       [69, 69, 69, 69, 69, 69],\n",
       "       [69, 69, 69, 69, 69, 69],\n",
       "       [69, 69, 69, 69, 69, 69],\n",
       "       [69, 69, 69, 69, 69, 69],\n",
       "       [69, 69, 69, 69, 69, 69],\n",
       "       [69, 69, 69, 69, 69, 69],\n",
       "       [69, 69, 69, 69, 69, 69],\n",
       "       [69, 69, 69, 69, 69, 69]])"
      ]
     },
     "execution_count": 77,
     "metadata": {},
     "output_type": "execute_result"
    }
   ],
   "source": [
    "np.full(shape = (9, 6), fill_value = 69)"
   ]
  },
  {
   "cell_type": "markdown",
   "id": "cf10144b-3706-4c5c-80c0-24f7eaeb5294",
   "metadata": {},
   "source": [
    "#### One can make a identity matrix with function 'np.identity()'."
   ]
  },
  {
   "cell_type": "code",
   "execution_count": 81,
   "id": "8dcc8402-5a8b-44d6-948b-8100a687597a",
   "metadata": {},
   "outputs": [
    {
     "data": {
      "text/plain": [
       "array([[1., 0., 0., 0., 0., 0., 0.],\n",
       "       [0., 1., 0., 0., 0., 0., 0.],\n",
       "       [0., 0., 1., 0., 0., 0., 0.],\n",
       "       [0., 0., 0., 1., 0., 0., 0.],\n",
       "       [0., 0., 0., 0., 1., 0., 0.],\n",
       "       [0., 0., 0., 0., 0., 1., 0.],\n",
       "       [0., 0., 0., 0., 0., 0., 1.]])"
      ]
     },
     "execution_count": 81,
     "metadata": {},
     "output_type": "execute_result"
    }
   ],
   "source": [
    "np.identity(7)"
   ]
  },
  {
   "cell_type": "markdown",
   "id": "8c494534-fd35-4e4c-89ef-4530d2bbce80",
   "metadata": {},
   "source": [
    "#### Make random numbers whenever you need out of thin air using 'np.random()'"
   ]
  },
  {
   "cell_type": "code",
   "execution_count": 84,
   "id": "2eb99dad-0c3e-455e-9051-65991be44267",
   "metadata": {},
   "outputs": [
    {
     "data": {
      "text/plain": [
       "array([[0.17651221, 0.74408285, 0.37844594, 0.0887992 , 0.6519609 ],\n",
       "       [0.58665856, 0.34106701, 0.81831537, 0.91561618, 0.12603007],\n",
       "       [0.06684351, 0.18995118, 0.5577266 , 0.85482506, 0.15724444],\n",
       "       [0.54977914, 0.07025089, 0.28742101, 0.1380842 , 0.56452762]])"
      ]
     },
     "execution_count": 84,
     "metadata": {},
     "output_type": "execute_result"
    }
   ],
   "source": [
    "np.random.rand(4,5)"
   ]
  },
  {
   "cell_type": "markdown",
   "id": "af99aa9f-87e6-4b66-9539-37d79cf2b289",
   "metadata": {},
   "source": [
    "#### Usually it returns floats but you can also assign it to only return integers within a specified range"
   ]
  },
  {
   "cell_type": "code",
   "execution_count": 88,
   "id": "9d1f9da1-c559-447a-9562-f3373954fd71",
   "metadata": {},
   "outputs": [
    {
     "data": {
      "text/plain": [
       "array([[10,  9, 12,  9,  2],\n",
       "       [ 6,  9,  4,  7,  9],\n",
       "       [ 4,  6,  3,  3,  6],\n",
       "       [ 5, 11,  9, 12, 12],\n",
       "       [ 2, 12,  2, 11, 13]])"
      ]
     },
     "execution_count": 88,
     "metadata": {},
     "output_type": "execute_result"
    }
   ],
   "source": [
    "np.random.randint(1, 14, size = (5, 5))"
   ]
  },
  {
   "cell_type": "markdown",
   "id": "427615b6-b8fe-42e3-b5fb-1e677a7e545b",
   "metadata": {},
   "source": [
    "#### If you are tired of constanly getting random numbers you can also seed the random fuction to always return a particular random generation."
   ]
  },
  {
   "cell_type": "code",
   "execution_count": 91,
   "id": "0b47ade3-2d21-474d-9759-36c770d38f3e",
   "metadata": {},
   "outputs": [
    {
     "data": {
      "text/plain": [
       "array([-0.61912682, -0.69934479,  0.28098204, -0.21230185, -0.73133961,\n",
       "        0.91127451, -0.31879833])"
      ]
     },
     "execution_count": 91,
     "metadata": {},
     "output_type": "execute_result"
    }
   ],
   "source": [
    "np.random.seed(2132004)\n",
    "set_seed = np.random.randn(7,)\n",
    "set_seed"
   ]
  },
  {
   "cell_type": "markdown",
   "id": "a4e7cb42-4042-492f-8742-cf6760e3b1ea",
   "metadata": {},
   "source": [
    "## Slicing Task / Homework\n",
    "#### Q. Generate a matrix of shape (3, 3) with only integres where you later on slice the matrix in such a way that it only prints each of it's quadrants"
   ]
  },
  {
   "cell_type": "code",
   "execution_count": 116,
   "id": "fa04d978-68d4-44a3-a7bd-59d3242528ab",
   "metadata": {},
   "outputs": [
    {
     "data": {
      "text/plain": [
       "array([[11, 12,  2],\n",
       "       [ 9, 12,  3],\n",
       "       [12, 19,  2]])"
      ]
     },
     "execution_count": 116,
     "metadata": {},
     "output_type": "execute_result"
    }
   ],
   "source": [
    "e = np.random.randint(1, 21, size = (3, 3))\n",
    "e"
   ]
  },
  {
   "cell_type": "code",
   "execution_count": 114,
   "id": "b758ad21-47ab-4bc6-b6a6-96af0d0dd654",
   "metadata": {},
   "outputs": [
    {
     "name": "stdout",
     "output_type": "stream",
     "text": [
      "First quadrant: \n",
      "[[ 2 19]\n",
      " [20 18]]\n",
      "\n",
      "Second quadrant: \n",
      "[[19  6]\n",
      " [18  9]]\n",
      "\n",
      "Third quadrant: \n",
      "[[20 18]\n",
      " [ 7 12]]\n",
      "\n",
      "Fourth quadrant: \n",
      "[[18  9]\n",
      " [12  1]]\n"
     ]
    }
   ],
   "source": [
    "print(f'First quadrant: \\n{e[:2, :2]}\\n')\n",
    "print(f'Second quadrant: \\n{e[:2, 1:3]}\\n')\n",
    "print(f'Third quadrant: \\n{e[1:, :2]}\\n')\n",
    "print(f'Fourth quadrant: \\n{e[1:, 1:3]}')"
   ]
  },
  {
   "cell_type": "markdown",
   "id": "a3186bf5-10c4-412e-93b2-c2b75f74a648",
   "metadata": {},
   "source": [
    "# The End"
   ]
  }
 ],
 "metadata": {
  "kernelspec": {
   "display_name": "Python 3 (ipykernel)",
   "language": "python",
   "name": "python3"
  },
  "language_info": {
   "codemirror_mode": {
    "name": "ipython",
    "version": 3
   },
   "file_extension": ".py",
   "mimetype": "text/x-python",
   "name": "python",
   "nbconvert_exporter": "python",
   "pygments_lexer": "ipython3",
   "version": "3.12.4"
  }
 },
 "nbformat": 4,
 "nbformat_minor": 5
}

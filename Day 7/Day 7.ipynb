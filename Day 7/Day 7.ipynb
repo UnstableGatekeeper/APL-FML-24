{
 "cells": [
  {
   "cell_type": "markdown",
   "id": "2199bc01-442e-4228-b3a3-52a3e0d6ed37",
   "metadata": {},
   "source": [
    "# Day 7\n",
    "\n",
    "### How to code a simple linear regression"
   ]
  },
  {
   "cell_type": "code",
   "execution_count": 1,
   "id": "f3e263b7-194c-450b-bb60-29527e77b781",
   "metadata": {},
   "outputs": [],
   "source": [
    "import numpy as np"
   ]
  },
  {
   "cell_type": "code",
   "execution_count": 3,
   "id": "c6c0b367-74b9-4361-9b3b-2dec08d2229b",
   "metadata": {},
   "outputs": [],
   "source": [
    "import pandas as pd"
   ]
  },
  {
   "cell_type": "code",
   "execution_count": 5,
   "id": "dd7e5d77-0556-413e-9fa1-b7e394339369",
   "metadata": {},
   "outputs": [],
   "source": [
    "x = [1, 2, 3, 4, 5]\n",
    "y = [3, 6, 8, 7, 4]\n",
    "\n",
    "foo = pd.DataFrame({'X': x, 'Y': y})"
   ]
  },
  {
   "cell_type": "code",
   "execution_count": 7,
   "id": "ef10cde7-16e0-45ad-9b34-855af7d1fd18",
   "metadata": {},
   "outputs": [
    {
     "data": {
      "text/html": [
       "<div>\n",
       "<style scoped>\n",
       "    .dataframe tbody tr th:only-of-type {\n",
       "        vertical-align: middle;\n",
       "    }\n",
       "\n",
       "    .dataframe tbody tr th {\n",
       "        vertical-align: top;\n",
       "    }\n",
       "\n",
       "    .dataframe thead th {\n",
       "        text-align: right;\n",
       "    }\n",
       "</style>\n",
       "<table border=\"1\" class=\"dataframe\">\n",
       "  <thead>\n",
       "    <tr style=\"text-align: right;\">\n",
       "      <th></th>\n",
       "      <th>X</th>\n",
       "      <th>Y</th>\n",
       "    </tr>\n",
       "  </thead>\n",
       "  <tbody>\n",
       "    <tr>\n",
       "      <th>0</th>\n",
       "      <td>1</td>\n",
       "      <td>3</td>\n",
       "    </tr>\n",
       "    <tr>\n",
       "      <th>1</th>\n",
       "      <td>2</td>\n",
       "      <td>6</td>\n",
       "    </tr>\n",
       "    <tr>\n",
       "      <th>2</th>\n",
       "      <td>3</td>\n",
       "      <td>8</td>\n",
       "    </tr>\n",
       "    <tr>\n",
       "      <th>3</th>\n",
       "      <td>4</td>\n",
       "      <td>7</td>\n",
       "    </tr>\n",
       "    <tr>\n",
       "      <th>4</th>\n",
       "      <td>5</td>\n",
       "      <td>4</td>\n",
       "    </tr>\n",
       "  </tbody>\n",
       "</table>\n",
       "</div>"
      ],
      "text/plain": [
       "   X  Y\n",
       "0  1  3\n",
       "1  2  6\n",
       "2  3  8\n",
       "3  4  7\n",
       "4  5  4"
      ]
     },
     "execution_count": 7,
     "metadata": {},
     "output_type": "execute_result"
    }
   ],
   "source": [
    "foo"
   ]
  },
  {
   "cell_type": "code",
   "execution_count": 9,
   "id": "12ef6388-6a8c-40d3-bda6-7cecdee5a915",
   "metadata": {},
   "outputs": [
    {
     "data": {
      "text/plain": [
       "3.0"
      ]
     },
     "execution_count": 9,
     "metadata": {},
     "output_type": "execute_result"
    }
   ],
   "source": [
    "x_mean = foo['X'].mean()\n",
    "x_mean"
   ]
  },
  {
   "cell_type": "code",
   "execution_count": 11,
   "id": "617a2473-e0ad-4327-9860-b7b1dfa133b6",
   "metadata": {},
   "outputs": [
    {
     "data": {
      "text/plain": [
       "5.6"
      ]
     },
     "execution_count": 11,
     "metadata": {},
     "output_type": "execute_result"
    }
   ],
   "source": [
    "y_mean = foo['Y'].mean()\n",
    "y_mean"
   ]
  },
  {
   "cell_type": "code",
   "execution_count": 13,
   "id": "3e215c74-d900-4bc0-9515-9e927370c80d",
   "metadata": {},
   "outputs": [
    {
     "data": {
      "text/plain": [
       "array([-2., -1.,  0.,  1.,  2.])"
      ]
     },
     "execution_count": 13,
     "metadata": {},
     "output_type": "execute_result"
    }
   ],
   "source": [
    "x_mean_diff = x - x_mean\n",
    "x_mean_diff"
   ]
  },
  {
   "cell_type": "code",
   "execution_count": 15,
   "id": "24fd10f8-54be-49a6-85a4-e715464d67d9",
   "metadata": {},
   "outputs": [
    {
     "data": {
      "text/plain": [
       "array([-2.6,  0.4,  2.4,  1.4, -1.6])"
      ]
     },
     "execution_count": 15,
     "metadata": {},
     "output_type": "execute_result"
    }
   ],
   "source": [
    "y_mean_diff = y - y_mean\n",
    "y_mean_diff"
   ]
  },
  {
   "cell_type": "code",
   "execution_count": 19,
   "id": "69dc6c6d-b749-4f16-9539-790da8a59618",
   "metadata": {},
   "outputs": [
    {
     "data": {
      "text/plain": [
       "array([4., 1., 0., 1., 4.])"
      ]
     },
     "execution_count": 19,
     "metadata": {},
     "output_type": "execute_result"
    }
   ],
   "source": [
    "x_mean_diff_sqr = np.square(x_mean_diff)\n",
    "x_mean_diff_sqr"
   ]
  },
  {
   "cell_type": "code",
   "execution_count": 23,
   "id": "cfa21dba-f432-4f98-ab5a-a649de1c0572",
   "metadata": {},
   "outputs": [
    {
     "data": {
      "text/plain": [
       "0.0"
      ]
     },
     "execution_count": 23,
     "metadata": {},
     "output_type": "execute_result"
    }
   ],
   "source": [
    "m = (x_mean_diff.sum() * y_mean_diff.sum()) / (x_mean_diff_sqr).sum()\n",
    "m"
   ]
  },
  {
   "cell_type": "code",
   "execution_count": 27,
   "id": "34dbfeaf-87b3-4fa2-a070-d2c8cdaf1ee8",
   "metadata": {},
   "outputs": [
    {
     "data": {
      "text/plain": [
       "5.6"
      ]
     },
     "execution_count": 27,
     "metadata": {},
     "output_type": "execute_result"
    }
   ],
   "source": [
    "c = np.absolute(m*x_mean - y_mean)\n",
    "c"
   ]
  },
  {
   "cell_type": "code",
   "execution_count": null,
   "id": "0312fe48-93a4-48f4-afae-fecba43535bf",
   "metadata": {},
   "outputs": [],
   "source": []
  }
 ],
 "metadata": {
  "kernelspec": {
   "display_name": "Python 3 (ipykernel)",
   "language": "python",
   "name": "python3"
  },
  "language_info": {
   "codemirror_mode": {
    "name": "ipython",
    "version": 3
   },
   "file_extension": ".py",
   "mimetype": "text/x-python",
   "name": "python",
   "nbconvert_exporter": "python",
   "pygments_lexer": "ipython3",
   "version": "3.12.4"
  }
 },
 "nbformat": 4,
 "nbformat_minor": 5
}

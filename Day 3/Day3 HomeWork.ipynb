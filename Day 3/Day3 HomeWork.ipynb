{
 "cells": [
  {
   "cell_type": "code",
   "execution_count": 1,
   "id": "b1f9445b-433b-483a-928d-cd0c30570d44",
   "metadata": {},
   "outputs": [],
   "source": [
    "import numpy as np\n",
    "import matplotlib.pyplot as plt"
   ]
  },
  {
   "cell_type": "code",
   "execution_count": 3,
   "id": "0337beb5-a1da-474f-94bb-49df3f263863",
   "metadata": {},
   "outputs": [],
   "source": [
    "all_ones = np.ones((100, 100), dtype = int)"
   ]
  },
  {
   "cell_type": "code",
   "execution_count": 5,
   "id": "5c59672b-4b5d-42b0-a702-a77bd138b705",
   "metadata": {},
   "outputs": [],
   "source": [
    "one_two = np.c_[all_ones, 2*all_ones]"
   ]
  },
  {
   "cell_type": "code",
   "execution_count": 7,
   "id": "d34099fd-8a8b-43c9-92a8-728db8e9bfc8",
   "metadata": {},
   "outputs": [],
   "source": [
    "three_four = np.c_[3*all_ones, 4*all_ones]"
   ]
  },
  {
   "cell_type": "code",
   "execution_count": 9,
   "id": "e313ebb2-611e-42f1-aa7b-49a2f9351a8b",
   "metadata": {},
   "outputs": [],
   "source": [
    "linear_t = np.vstack([one_two, three_four])"
   ]
  },
  {
   "cell_type": "code",
   "execution_count": 11,
   "id": "fa0780e9-0546-4af9-8b87-acd25ee3d5b1",
   "metadata": {},
   "outputs": [
    {
     "data": {
      "text/plain": [
       "<matplotlib.image.AxesImage at 0x2a722586000>"
      ]
     },
     "execution_count": 11,
     "metadata": {},
     "output_type": "execute_result"
    },
    {
     "data": {
      "image/png": "[encoded data removed]",
      "text/plain": [
       "<Figure size 640x480 with 1 Axes>"
      ]
     },
     "metadata": {},
     "output_type": "display_data"
    }
   ],
   "source": [
    "plt.imshow(linear_t)"
   ]
  },
  {
   "cell_type": "markdown",
   "id": "b8a0387b-0a98-460a-9081-d2546b3f3b8d",
   "metadata": {},
   "source": [
    "### WE can see that the 1 is value in linear_t(0:100, 0:100)\n",
    "#### Now we'll simply multiply the x axis for it to cover 1 over on to extend the occurence of 1's."
   ]
  },
  {
   "cell_type": "code",
   "execution_count": 18,
   "id": "ab61aed1-493d-4662-896c-eabc0c5927ad",
   "metadata": {},
   "outputs": [
    {
     "data": {
      "text/plain": [
       "120.0"
      ]
     },
     "execution_count": 18,
     "metadata": {},
     "output_type": "execute_result"
    }
   ],
   "source": [
    "old_x = 100\n",
    "scaling_factor = 1.2\n",
    "new_x = int(old_x * scaling_factor\n",
    "new_x"
   ]
  },
  {
   "cell_type": "code",
   "execution_count": 20,
   "id": "351ad20b-0992-4cad-8f4a-d43dd009cd40",
   "metadata": {},
   "outputs": [
    {
     "ename": "TypeError",
     "evalue": "slice indices must be integers or None or have an __index__ method",
     "output_type": "error",
     "traceback": [
      "\u001b[1;31m---------------------------------------------------------------------------\u001b[0m",
      "\u001b[1;31mTypeError\u001b[0m                                 Traceback (most recent call last)",
      "Cell \u001b[1;32mIn[20], line 1\u001b[0m\n\u001b[1;32m----> 1\u001b[0m linear_t[\u001b[38;5;241m0\u001b[39m:new_x, \u001b[38;5;241m0\u001b[39m:\u001b[38;5;241m100\u001b[39m] \u001b[38;5;241m=\u001b[39m \u001b[38;5;241m1\u001b[39m\n",
      "\u001b[1;31mTypeError\u001b[0m: slice indices must be integers or None or have an __index__ method"
     ]
    }
   ],
   "source": [
    "linear_t[0:new_x, 0:100] = 1"
   ]
  },
  {
   "cell_type": "code",
   "execution_count": null,
   "id": "e1259001-92ad-4212-a224-8b6782a10eff",
   "metadata": {},
   "outputs": [],
   "source": []
  }
 ],
 "metadata": {
  "kernelspec": {
   "display_name": "Python 3 (ipykernel)",
   "language": "python",
   "name": "python3"
  },
  "language_info": {
   "codemirror_mode": {
    "name": "ipython",
    "version": 3
   },
   "file_extension": ".py",
   "mimetype": "text/x-python",
   "name": "python",
   "nbconvert_exporter": "python",
   "pygments_lexer": "ipython3",
   "version": "3.12.4"
  }
 },
 "nbformat": 4,
 "nbformat_minor": 5
}
